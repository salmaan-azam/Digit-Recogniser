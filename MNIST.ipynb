{
  "nbformat": 4,
  "nbformat_minor": 0,
  "metadata": {
    "accelerator": "GPU",
    "colab": {
      "name": "MNIST.ipynb",
      "provenance": [],
      "include_colab_link": true
    },
    "kernelspec": {
      "display_name": "Python 3",
      "name": "python3"
    }
  },
  "cells": [
    {
      "cell_type": "markdown",
      "metadata": {
        "id": "view-in-github",
        "colab_type": "text"
      },
      "source": [
        "<a href=\"https://colab.research.google.com/github/salmaan-azam/Digit-Recognisor/blob/main/MNIST.ipynb\" target=\"_parent\"><img src=\"https://colab.research.google.com/assets/colab-badge.svg\" alt=\"Open In Colab\"/></a>"
      ]
    },
    {
      "cell_type": "markdown",
      "metadata": {
        "id": "kx72m2ESyOGD"
      },
      "source": [
        "#MNIST DATASET"
      ]
    },
    {
      "cell_type": "code",
      "metadata": {
        "colab": {
          "base_uri": "https://localhost:8080/"
        },
        "id": "FtNlfCnF0ENN",
        "outputId": "0e309c95-99a9-4cfe-fd62-f6daebcbe3d7"
      },
      "source": [
        "from google.colab import drive\n",
        "drive.mount('/content/gdrive')"
      ],
      "execution_count": null,
      "outputs": [
        {
          "output_type": "stream",
          "text": [
            "Mounted at /content/gdrive\n"
          ],
          "name": "stdout"
        }
      ]
    },
    {
      "cell_type": "code",
      "metadata": {
        "id": "6ukVc0AYubgC"
      },
      "source": [
        "# Importing Libraries\n",
        "import keras\n",
        "import tensorflow as tf"
      ],
      "execution_count": null,
      "outputs": []
    },
    {
      "cell_type": "code",
      "metadata": {
        "id": "3TzRCopqmzQb",
        "colab": {
          "base_uri": "https://localhost:8080/"
        },
        "outputId": "b2ce74ea-023f-46f0-8911-5ad4e5fa4b1f"
      },
      "source": [
        "# Downloading training and testing data\n",
        "(x_train, y_train), (x_test, y_test) = tf.keras.datasets.mnist.load_data(path=\"mnist.npz\")"
      ],
      "execution_count": null,
      "outputs": [
        {
          "output_type": "stream",
          "text": [
            "Downloading data from https://storage.googleapis.com/tensorflow/tf-keras-datasets/mnist.npz\n",
            "11493376/11490434 [==============================] - 0s 0us/step\n"
          ],
          "name": "stdout"
        }
      ]
    },
    {
      "cell_type": "code",
      "metadata": {
        "colab": {
          "base_uri": "https://localhost:8080/"
        },
        "id": "6Nmrq6CTnb-U",
        "outputId": "e2186fb6-0cbd-4f7c-de9e-0da899986759"
      },
      "source": [
        "# Checking dimensions of data\n",
        "print(x_train.shape)\n",
        "print(x_test.shape)\n",
        "print(y_train.shape)\n",
        "print(y_test.shape)"
      ],
      "execution_count": null,
      "outputs": [
        {
          "output_type": "stream",
          "text": [
            "(60000, 28, 28)\n",
            "(10000, 28, 28)\n",
            "(60000,)\n",
            "(10000,)\n"
          ],
          "name": "stdout"
        }
      ]
    },
    {
      "cell_type": "code",
      "metadata": {
        "colab": {
          "base_uri": "https://localhost:8080/",
          "height": 281
        },
        "id": "TEnm-vSdngYL",
        "outputId": "4c77f525-e7d7-4bbc-91a3-4468a93f5d52"
      },
      "source": [
        "import matplotlib.pyplot as plt\n",
        "plt.imshow(x_train[0])\n",
        "plt.title(y_train[0])\n",
        "plt.show()"
      ],
      "execution_count": null,
      "outputs": [
        {
          "output_type": "display_data",
          "data": {
            "image/png": "[encoded data removed]",
            "text/plain": [
              "<Figure size 432x288 with 1 Axes>"
            ]
          },
          "metadata": {
            "tags": [],
            "needs_background": "light"
          }
        }
      ]
    },
    {
      "cell_type": "code",
      "metadata": {
        "id": "bSX9a9mSpABq"
      },
      "source": [
        "# Reshaping traing and testing data\n",
        "x_train = x_train.reshape(x_train.shape[0], x_train.shape[1], x_train.shape[2], 1 )\n",
        "x_test = x_test.reshape(x_test.shape[0], x_test.shape[1], x_test.shape[2], 1 )"
      ],
      "execution_count": null,
      "outputs": []
    },
    {
      "cell_type": "code",
      "metadata": {
        "id": "5k4L9Slky7t2"
      },
      "source": [
        "# Normalising training and testing data\n",
        "x_train = x_train*1.0/255\n",
        "x_test = x_test*1.0/255"
      ],
      "execution_count": null,
      "outputs": []
    },
    {
      "cell_type": "code",
      "metadata": {
        "id": "_tBdfbJWw5yC"
      },
      "source": [
        "# One hot encoding of the outpul labels\n",
        "from  keras.utils import np_utils\n",
        "y_train = np_utils.to_categorical(y_train, num_classes=10)\n",
        "y_test= np_utils.to_categorical(y_test, num_classes=10)"
      ],
      "execution_count": null,
      "outputs": []
    },
    {
      "cell_type": "code",
      "metadata": {
        "colab": {
          "base_uri": "https://localhost:8080/"
        },
        "id": "Fl1ue2Umxp38",
        "outputId": "13aa6524-0ce5-4b99-b8a4-7136b8bfca63"
      },
      "source": [
        "print(y_train[0])"
      ],
      "execution_count": null,
      "outputs": [
        {
          "output_type": "stream",
          "text": [
            "[0. 0. 0. 0. 0. 1. 0. 0. 0. 0.]\n"
          ],
          "name": "stdout"
        }
      ]
    },
    {
      "cell_type": "code",
      "metadata": {
        "colab": {
          "base_uri": "https://localhost:8080/"
        },
        "id": "5GwKXzRcY4JX",
        "outputId": "8c5b0101-0188-475f-d6d0-2485e74d731a"
      },
      "source": [
        "# Checking dimensions of data\n",
        "print(x_train.shape)\n",
        "print(x_test.shape)\n",
        "print(y_train.shape)\n",
        "print(y_test.shape)"
      ],
      "execution_count": null,
      "outputs": [
        {
          "output_type": "stream",
          "text": [
            "(60000, 28, 28, 1)\n",
            "(10000, 28, 28, 1)\n",
            "(60000, 10)\n",
            "(10000, 10)\n"
          ],
          "name": "stdout"
        }
      ]
    },
    {
      "cell_type": "code",
      "metadata": {
        "id": "NENqHCdaxq4u"
      },
      "source": [
        "from keras.layers import Conv2D, MaxPooling2D, Dense, Flatten, BatchNormalization, Dropout\n",
        "from keras import models"
      ],
      "execution_count": null,
      "outputs": []
    },
    {
      "cell_type": "markdown",
      "metadata": {
        "id": "0ud2iDLAzSmb"
      },
      "source": [
        "## Model Architecture"
      ]
    },
    {
      "cell_type": "code",
      "metadata": {
        "id": "KUwWxDT8G56O"
      },
      "source": [
        "he = keras.initializers.HeNormal()"
      ],
      "execution_count": null,
      "outputs": []
    },
    {
      "cell_type": "code",
      "metadata": {
        "id": "LcLv4UoM7x4I"
      },
      "source": [
        "model = models.Sequential()\n",
        "model.add(Conv2D(2, (3, 3), kernel_initializer=he, activation='relu', input_shape=(28, 28, 1)))\n",
        "model.add(Conv2D(4, (3, 3), kernel_initializer=he, activation='relu'))\n",
        "model.add(Conv2D(8, (3, 3), kernel_initializer=he, activation='relu'))\n",
        "model.add(MaxPooling2D((2, 2)))\n",
        "model.add(BatchNormalization())\n",
        "model.add(Conv2D(16, (3, 3), kernel_initializer=he, activation='relu'))\n",
        "model.add(BatchNormalization())\n",
        "model.add(Conv2D(32, (3, 3), kernel_initializer=he, activation='relu'))\n",
        "model.add(BatchNormalization())\n",
        "model.add(MaxPooling2D((2, 2)))\n",
        "model.add(Flatten())\n",
        "model.add(Dense(10, activation='softmax'))"
      ],
      "execution_count": null,
      "outputs": []
    },
    {
      "cell_type": "code",
      "metadata": {
        "colab": {
          "base_uri": "https://localhost:8080/"
        },
        "id": "X_Y9WB8H_ZcI",
        "outputId": "8c3bb999-d359-485a-c4ab-668ad144c05f"
      },
      "source": [
        "model.summary()"
      ],
      "execution_count": null,
      "outputs": [
        {
          "output_type": "stream",
          "text": [
            "Model: \"sequential\"\n",
            "_________________________________________________________________\n",
            "Layer (type)                 Output Shape              Param #   \n",
            "=================================================================\n",
            "conv2d (Conv2D)              (None, 26, 26, 2)         20        \n",
            "_________________________________________________________________\n",
            "conv2d_1 (Conv2D)            (None, 24, 24, 4)         76        \n",
            "_________________________________________________________________\n",
            "conv2d_2 (Conv2D)            (None, 22, 22, 8)         296       \n",
            "_________________________________________________________________\n",
            "max_pooling2d (MaxPooling2D) (None, 11, 11, 8)         0         \n",
            "_________________________________________________________________\n",
            "batch_normalization (BatchNo (None, 11, 11, 8)         32        \n",
            "_________________________________________________________________\n",
            "conv2d_3 (Conv2D)            (None, 9, 9, 16)          1168      \n",
            "_________________________________________________________________\n",
            "batch_normalization_1 (Batch (None, 9, 9, 16)          64        \n",
            "_________________________________________________________________\n",
            "conv2d_4 (Conv2D)            (None, 7, 7, 32)          4640      \n",
            "_________________________________________________________________\n",
            "batch_normalization_2 (Batch (None, 7, 7, 32)          128       \n",
            "_________________________________________________________________\n",
            "max_pooling2d_1 (MaxPooling2 (None, 3, 3, 32)          0         \n",
            "_________________________________________________________________\n",
            "flatten (Flatten)            (None, 288)               0         \n",
            "_________________________________________________________________\n",
            "dense (Dense)                (None, 10)                2890      \n",
            "=================================================================\n",
            "Total params: 9,314\n",
            "Trainable params: 9,202\n",
            "Non-trainable params: 112\n",
            "_________________________________________________________________\n"
          ],
          "name": "stdout"
        }
      ]
    },
    {
      "cell_type": "code",
      "metadata": {
        "id": "Kun8ex1ytXwv"
      },
      "source": [
        "from keras.callbacks import ReduceLROnPlateau\n",
        "lr = ReduceLROnPlateau(monitor='val_accuracy', patience=3, verbose=1, factor=0.2, min_lr=0.000001)"
      ],
      "execution_count": null,
      "outputs": []
    },
    {
      "cell_type": "code",
      "metadata": {
        "id": "_XMpwrsSCxUx"
      },
      "source": [
        "from keras.callbacks import ModelCheckpoint\n",
        "filename=\"/content/gdrive/MyDrive/Vision/MNIST/model1.hdf5\"\n",
        "checkpoint = ModelCheckpoint(filename, monitor='val_accuracy', verbose=1, save_best_only=True, mode='max')"
      ],
      "execution_count": null,
      "outputs": []
    },
    {
      "cell_type": "code",
      "metadata": {
        "id": "I5WaQTbNIlAX"
      },
      "source": [
        "model.compile(optimizer=keras.optimizers.Adam(learning_rate=0.001), loss='categorical_crossentropy', metrics=['accuracy'])"
      ],
      "execution_count": null,
      "outputs": []
    },
    {
      "cell_type": "markdown",
      "metadata": {
        "id": "kO32qRCvzYn7"
      },
      "source": [
        "## Data Augmentation"
      ]
    },
    {
      "cell_type": "code",
      "metadata": {
        "id": "F2CR5aKQQRzq"
      },
      "source": [
        "from keras.preprocessing.image import ImageDataGenerator\n",
        "datagen = ImageDataGenerator(\n",
        "        featurewise_center=False,  # set input mean to 0 over the dataset\n",
        "        samplewise_center=False,  # set each sample mean to 0\n",
        "        featurewise_std_normalization=False,  # divide inputs by std of the dataset\n",
        "        samplewise_std_normalization=False,  # divide each input by its std\n",
        "        zca_whitening=False,  # apply ZCA whitening\n",
        "        rotation_range=10,  # randomly rotate images in the range (degrees, 0 to 180)\n",
        "        zoom_range = 0.1, # Randomly zoom image \n",
        "        width_shift_range=0.1,  # randomly shift images horizontally (fraction of total width)\n",
        "        height_shift_range=0.1,  # randomly shift images vertically (fraction of total height)\n",
        "        horizontal_flip=False,  # randomly flip images\n",
        "        vertical_flip=False)  # randomly flip images\n",
        "\n",
        "datagen.fit(x_train)"
      ],
      "execution_count": null,
      "outputs": []
    },
    {
      "cell_type": "code",
      "metadata": {
        "colab": {
          "base_uri": "https://localhost:8080/"
        },
        "id": "AE4iYfeiQXzh",
        "outputId": "7c0d0fe5-11a6-4842-f23a-e79734b971b4"
      },
      "source": [
        "history = model.fit(datagen.flow(x_train, y_train), epochs=30, validation_data=(x_test, y_test), callbacks=[checkpoint, lr])"
      ],
      "execution_count": null,
      "outputs": [
        {
          "output_type": "stream",
          "text": [
            "Epoch 1/30\n",
            "1875/1875 [==============================] - 36s 11ms/step - loss: 0.7219 - accuracy: 0.7752 - val_loss: 0.0841 - val_accuracy: 0.9706\n",
            "\n",
            "Epoch 00001: val_accuracy improved from -inf to 0.97060, saving model to /content/gdrive/MyDrive/Vision/MNIST/model1.hdf5\n",
            "Epoch 2/30\n",
            "1875/1875 [==============================] - 21s 11ms/step - loss: 0.1687 - accuracy: 0.9475 - val_loss: 0.0479 - val_accuracy: 0.9841\n",
            "\n",
            "Epoch 00002: val_accuracy improved from 0.97060 to 0.98410, saving model to /content/gdrive/MyDrive/Vision/MNIST/model1.hdf5\n",
            "Epoch 3/30\n",
            "1875/1875 [==============================] - 20s 11ms/step - loss: 0.1126 - accuracy: 0.9650 - val_loss: 0.0370 - val_accuracy: 0.9882\n",
            "\n",
            "Epoch 00003: val_accuracy improved from 0.98410 to 0.98820, saving model to /content/gdrive/MyDrive/Vision/MNIST/model1.hdf5\n",
            "Epoch 4/30\n",
            "1875/1875 [==============================] - 20s 11ms/step - loss: 0.0994 - accuracy: 0.9691 - val_loss: 0.0410 - val_accuracy: 0.9876\n",
            "\n",
            "Epoch 00004: val_accuracy did not improve from 0.98820\n",
            "Epoch 5/30\n",
            "1875/1875 [==============================] - 21s 11ms/step - loss: 0.0873 - accuracy: 0.9737 - val_loss: 0.0308 - val_accuracy: 0.9902\n",
            "\n",
            "Epoch 00005: val_accuracy improved from 0.98820 to 0.99020, saving model to /content/gdrive/MyDrive/Vision/MNIST/model1.hdf5\n",
            "Epoch 6/30\n",
            "1875/1875 [==============================] - 20s 11ms/step - loss: 0.0795 - accuracy: 0.9752 - val_loss: 0.0403 - val_accuracy: 0.9872\n",
            "\n",
            "Epoch 00006: val_accuracy did not improve from 0.99020\n",
            "Epoch 7/30\n",
            "1875/1875 [==============================] - 21s 11ms/step - loss: 0.0763 - accuracy: 0.9769 - val_loss: 0.0336 - val_accuracy: 0.9908\n",
            "\n",
            "Epoch 00007: val_accuracy improved from 0.99020 to 0.99080, saving model to /content/gdrive/MyDrive/Vision/MNIST/model1.hdf5\n",
            "Epoch 8/30\n",
            "1875/1875 [==============================] - 20s 11ms/step - loss: 0.0689 - accuracy: 0.9792 - val_loss: 0.0332 - val_accuracy: 0.9895\n",
            "\n",
            "Epoch 00008: val_accuracy did not improve from 0.99080\n",
            "Epoch 9/30\n",
            "1875/1875 [==============================] - 20s 11ms/step - loss: 0.0615 - accuracy: 0.9820 - val_loss: 0.0321 - val_accuracy: 0.9895\n",
            "\n",
            "Epoch 00009: val_accuracy did not improve from 0.99080\n",
            "Epoch 10/30\n",
            "1875/1875 [==============================] - 20s 11ms/step - loss: 0.0596 - accuracy: 0.9813 - val_loss: 0.0303 - val_accuracy: 0.9909\n",
            "\n",
            "Epoch 00010: val_accuracy improved from 0.99080 to 0.99090, saving model to /content/gdrive/MyDrive/Vision/MNIST/model1.hdf5\n",
            "\n",
            "Epoch 00010: ReduceLROnPlateau reducing learning rate to 0.00020000000949949026.\n",
            "Epoch 11/30\n",
            "1875/1875 [==============================] - 21s 11ms/step - loss: 0.0512 - accuracy: 0.9840 - val_loss: 0.0235 - val_accuracy: 0.9927\n",
            "\n",
            "Epoch 00011: val_accuracy improved from 0.99090 to 0.99270, saving model to /content/gdrive/MyDrive/Vision/MNIST/model1.hdf5\n",
            "Epoch 12/30\n",
            "1875/1875 [==============================] - 21s 11ms/step - loss: 0.0440 - accuracy: 0.9863 - val_loss: 0.0222 - val_accuracy: 0.9927\n",
            "\n",
            "Epoch 00012: val_accuracy did not improve from 0.99270\n",
            "Epoch 13/30\n",
            "1875/1875 [==============================] - 21s 11ms/step - loss: 0.0434 - accuracy: 0.9866 - val_loss: 0.0212 - val_accuracy: 0.9930\n",
            "\n",
            "Epoch 00013: val_accuracy improved from 0.99270 to 0.99300, saving model to /content/gdrive/MyDrive/Vision/MNIST/model1.hdf5\n",
            "Epoch 14/30\n",
            "1875/1875 [==============================] - 20s 11ms/step - loss: 0.0421 - accuracy: 0.9866 - val_loss: 0.0215 - val_accuracy: 0.9938\n",
            "\n",
            "Epoch 00014: val_accuracy improved from 0.99300 to 0.99380, saving model to /content/gdrive/MyDrive/Vision/MNIST/model1.hdf5\n",
            "Epoch 15/30\n",
            "1875/1875 [==============================] - 21s 11ms/step - loss: 0.0449 - accuracy: 0.9866 - val_loss: 0.0202 - val_accuracy: 0.9935\n",
            "\n",
            "Epoch 00015: val_accuracy did not improve from 0.99380\n",
            "Epoch 16/30\n",
            "1875/1875 [==============================] - 21s 11ms/step - loss: 0.0426 - accuracy: 0.9859 - val_loss: 0.0218 - val_accuracy: 0.9931\n",
            "\n",
            "Epoch 00016: val_accuracy did not improve from 0.99380\n",
            "Epoch 17/30\n",
            "1875/1875 [==============================] - 20s 11ms/step - loss: 0.0402 - accuracy: 0.9881 - val_loss: 0.0215 - val_accuracy: 0.9933\n",
            "\n",
            "Epoch 00017: val_accuracy did not improve from 0.99380\n",
            "\n",
            "Epoch 00017: ReduceLROnPlateau reducing learning rate to 4.0000001899898055e-05.\n",
            "Epoch 18/30\n",
            "1875/1875 [==============================] - 21s 11ms/step - loss: 0.0421 - accuracy: 0.9878 - val_loss: 0.0207 - val_accuracy: 0.9930\n",
            "\n",
            "Epoch 00018: val_accuracy did not improve from 0.99380\n",
            "Epoch 19/30\n",
            "1875/1875 [==============================] - 21s 11ms/step - loss: 0.0391 - accuracy: 0.9884 - val_loss: 0.0201 - val_accuracy: 0.9937\n",
            "\n",
            "Epoch 00019: val_accuracy did not improve from 0.99380\n",
            "Epoch 20/30\n",
            "1875/1875 [==============================] - 21s 11ms/step - loss: 0.0377 - accuracy: 0.9890 - val_loss: 0.0199 - val_accuracy: 0.9938\n",
            "\n",
            "Epoch 00020: val_accuracy did not improve from 0.99380\n",
            "\n",
            "Epoch 00020: ReduceLROnPlateau reducing learning rate to 8.000000525498762e-06.\n",
            "Epoch 21/30\n",
            "1875/1875 [==============================] - 21s 11ms/step - loss: 0.0348 - accuracy: 0.9898 - val_loss: 0.0200 - val_accuracy: 0.9939\n",
            "\n",
            "Epoch 00021: val_accuracy improved from 0.99380 to 0.99390, saving model to /content/gdrive/MyDrive/Vision/MNIST/model1.hdf5\n",
            "Epoch 22/30\n",
            "1875/1875 [==============================] - 21s 11ms/step - loss: 0.0378 - accuracy: 0.9877 - val_loss: 0.0195 - val_accuracy: 0.9939\n",
            "\n",
            "Epoch 00022: val_accuracy did not improve from 0.99390\n",
            "Epoch 23/30\n",
            "1875/1875 [==============================] - 20s 11ms/step - loss: 0.0403 - accuracy: 0.9876 - val_loss: 0.0195 - val_accuracy: 0.9941\n",
            "\n",
            "Epoch 00023: val_accuracy improved from 0.99390 to 0.99410, saving model to /content/gdrive/MyDrive/Vision/MNIST/model1.hdf5\n",
            "Epoch 24/30\n",
            "1875/1875 [==============================] - 21s 11ms/step - loss: 0.0374 - accuracy: 0.9887 - val_loss: 0.0196 - val_accuracy: 0.9941\n",
            "\n",
            "Epoch 00024: val_accuracy did not improve from 0.99410\n",
            "Epoch 25/30\n",
            "1875/1875 [==============================] - 20s 11ms/step - loss: 0.0394 - accuracy: 0.9878 - val_loss: 0.0196 - val_accuracy: 0.9941\n",
            "\n",
            "Epoch 00025: val_accuracy did not improve from 0.99410\n",
            "Epoch 26/30\n",
            "1875/1875 [==============================] - 21s 11ms/step - loss: 0.0401 - accuracy: 0.9878 - val_loss: 0.0196 - val_accuracy: 0.9940\n",
            "\n",
            "Epoch 00026: val_accuracy did not improve from 0.99410\n",
            "\n",
            "Epoch 00026: ReduceLROnPlateau reducing learning rate to 1.6000001778593287e-06.\n",
            "Epoch 27/30\n",
            "1875/1875 [==============================] - 21s 11ms/step - loss: 0.0402 - accuracy: 0.9873 - val_loss: 0.0194 - val_accuracy: 0.9942\n",
            "\n",
            "Epoch 00027: val_accuracy improved from 0.99410 to 0.99420, saving model to /content/gdrive/MyDrive/Vision/MNIST/model1.hdf5\n",
            "Epoch 28/30\n",
            "1875/1875 [==============================] - 20s 11ms/step - loss: 0.0352 - accuracy: 0.9888 - val_loss: 0.0195 - val_accuracy: 0.9939\n",
            "\n",
            "Epoch 00028: val_accuracy did not improve from 0.99420\n",
            "Epoch 29/30\n",
            "1875/1875 [==============================] - 21s 11ms/step - loss: 0.0380 - accuracy: 0.9881 - val_loss: 0.0194 - val_accuracy: 0.9940\n",
            "\n",
            "Epoch 00029: val_accuracy did not improve from 0.99420\n",
            "Epoch 30/30\n",
            "1875/1875 [==============================] - 21s 11ms/step - loss: 0.0360 - accuracy: 0.9891 - val_loss: 0.0194 - val_accuracy: 0.9941\n",
            "\n",
            "Epoch 00030: val_accuracy did not improve from 0.99420\n",
            "\n",
            "Epoch 00030: ReduceLROnPlateau reducing learning rate to 1e-06.\n"
          ],
          "name": "stdout"
        }
      ]
    },
    {
      "cell_type": "code",
      "metadata": {
        "id": "js2kHYIMPeen"
      },
      "source": [
        ""
      ],
      "execution_count": null,
      "outputs": []
    },
    {
      "cell_type": "code",
      "metadata": {
        "id": "zD1L67fSPfLv"
      },
      "source": [
        ""
      ],
      "execution_count": null,
      "outputs": []
    },
    {
      "cell_type": "code",
      "metadata": {
        "id": "jyLRAwXDp94B"
      },
      "source": [
        "saved_model = keras.models.load_model('/content/gdrive/MyDrive/Vision/MNIST/model1.hdf5')"
      ],
      "execution_count": null,
      "outputs": []
    },
    {
      "cell_type": "code",
      "metadata": {
        "colab": {
          "base_uri": "https://localhost:8080/"
        },
        "id": "dYFVqJ3-X-C2",
        "outputId": "f3a52de9-b63b-4f34-9271-1c37ea8fe27b"
      },
      "source": [
        "saved_model.evaluate(x_test, y_test)"
      ],
      "execution_count": null,
      "outputs": [
        {
          "output_type": "stream",
          "text": [
            "313/313 [==============================] - 1s 2ms/step - loss: 0.0194 - accuracy: 0.9942\n"
          ],
          "name": "stdout"
        },
        {
          "output_type": "execute_result",
          "data": {
            "text/plain": [
              "[0.01941540464758873, 0.9941999912261963]"
            ]
          },
          "metadata": {
            "tags": []
          },
          "execution_count": 21
        }
      ]
    }
  ]
}